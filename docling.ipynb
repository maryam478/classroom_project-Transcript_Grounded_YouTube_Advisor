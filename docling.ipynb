{
 "cells": [
  {
   "cell_type": "code",
   "execution_count": 1,
   "metadata": {},
   "outputs": [
    {
     "name": "stderr",
     "output_type": "stream",
     "text": [
      "/Applications/miniconda3/envs/myenv/lib/python3.10/site-packages/tqdm/auto.py:21: TqdmWarning: IProgress not found. Please update jupyter and ipywidgets. See https://ipywidgets.readthedocs.io/en/stable/user_install.html\n",
      "  from .autonotebook import tqdm as notebook_tqdm\n",
      "2025-09-23 12:21:04,132 - INFO - detected formats: [<InputFormat.PDF: 'pdf'>]\n",
      "2025-09-23 12:21:04,165 - INFO - Going to convert document batch...\n",
      "2025-09-23 12:21:04,166 - INFO - Initializing pipeline for StandardPdfPipeline with options hash e647edf348883bed75367b22fbe60347\n",
      "2025-09-23 12:21:04,799 - INFO - Loading plugin 'docling_defaults'\n",
      "2025-09-23 12:21:04,800 - WARNING - The plugin langchain_docling will not be loaded because Docling is being executed with allow_external_plugins=false.\n",
      "2025-09-23 12:21:04,800 - INFO - Registered picture descriptions: ['vlm', 'api']\n",
      "2025-09-23 12:21:04,804 - INFO - Loading plugin 'docling_defaults'\n",
      "2025-09-23 12:21:04,806 - WARNING - The plugin langchain_docling will not be loaded because Docling is being executed with allow_external_plugins=false.\n",
      "2025-09-23 12:21:04,806 - INFO - Registered ocr engines: ['easyocr', 'ocrmac', 'rapidocr', 'tesserocr', 'tesseract']\n",
      "2025-09-23 12:21:12,683 - INFO - Accelerator device: 'mps'\n",
      "2025-09-23 12:21:14,694 - INFO - Accelerator device: 'mps'\n",
      "2025-09-23 12:21:15,694 - INFO - Accelerator device: 'mps'\n",
      "2025-09-23 12:21:16,214 - INFO - Processing document 2408.09869v5.pdf\n",
      "2025-09-23 12:21:27,441 - INFO - Finished converting document 2408.09869v5.pdf in 24.22 sec.\n"
     ]
    }
   ],
   "source": [
    "from docling.document_converter import DocumentConverter\n",
    "# pdf parsing\n",
    "source = \"https://arxiv.org/pdf/2408.09869\"\n",
    "\n",
    "# Initialize converter (enable OCR if PDF is scanned images)\n",
    "converter = DocumentConverter()\n",
    "\n",
    "# Load and convert the PDF\n",
    "doc = converter.convert(source)\n",
    "source = doc.document\n",
    "\n"
   ]
  },
  {
   "cell_type": "code",
   "execution_count": 2,
   "metadata": {},
   "outputs": [],
   "source": [
    "with open(\"converted_to_markdown.md\", \"w\", encoding=\"utf-8\") as f:\n",
    "    f.write(source.export_to_markdown())\n"
   ]
  },
  {
   "cell_type": "code",
   "execution_count": 3,
   "metadata": {},
   "outputs": [],
   "source": [
    "import json\n",
    "with open(\"json_converted.json\", \"w\", encoding=\"utf-8\") as f:\n",
    "    json.dump(source.export_to_dict(), f, indent=2, ensure_ascii=False)"
   ]
  },
  {
   "cell_type": "code",
   "execution_count": 4,
   "metadata": {},
   "outputs": [],
   "source": [
    "with open(\"html_converted.md\", \"w\", encoding=\"utf-8\") as f:\n",
    "    f.write(source.export_to_html())"
   ]
  },
  {
   "cell_type": "code",
   "execution_count": 5,
   "metadata": {},
   "outputs": [
    {
     "name": "stdout",
     "output_type": "stream",
     "text": [
      "['_DocIndex', '__abstractmethods__', '__annotations__', '__class__', '__class_getitem__', '__class_vars__', '__copy__', '__deepcopy__', '__delattr__', '__dict__', '__dir__', '__doc__', '__eq__', '__fields__', '__fields_set__', '__format__', '__ge__', '__get_pydantic_core_schema__', '__get_pydantic_json_schema__', '__getattr__', '__getattribute__', '__getstate__', '__gt__', '__hash__', '__init__', '__init_subclass__', '__iter__', '__le__', '__lt__', '__module__', '__ne__', '__new__', '__pretty__', '__private_attributes__', '__pydantic_complete__', '__pydantic_computed_fields__', '__pydantic_core_schema__', '__pydantic_custom_init__', '__pydantic_decorators__', '__pydantic_extra__', '__pydantic_fields__', '__pydantic_fields_set__', '__pydantic_generic_metadata__', '__pydantic_init_subclass__', '__pydantic_parent_namespace__', '__pydantic_post_init__', '__pydantic_private__', '__pydantic_root_model__', '__pydantic_serializer__', '__pydantic_setattr_handlers__', '__pydantic_validator__', '__reduce__', '__reduce_ex__', '__replace__', '__repr__', '__repr_args__', '__repr_name__', '__repr_recursion__', '__repr_str__', '__rich_repr__', '__setattr__', '__setstate__', '__signature__', '__sizeof__', '__slots__', '__str__', '__subclasshook__', '__weakref__', '_abc_impl', '_append_item', '_append_item_copies', '_calculate_keys', '_clear_picture_pil_cache', '_copy_and_set_values', '_delete_items', '_export_to_indented_text', '_get_insertion_stack_and_parent', '_get_output_paths', '_get_stack_of_item', '_get_stack_of_refitem', '_get_value', '_insert_in_structure', '_insert_item_at_refitem', '_insert_item_at_stack', '_iter', '_iterate_items_with_stack', '_list_images_on_disk', '_make_copy_with_refmode', '_normalize_references', '_pop_item', '_setattr_handler', '_update_breadth_first_with_lookup', '_update_from_index', '_update_ref_with_lookup', '_update_refitems_with_lookup', '_validate_rules', '_with_embedded_pictures', '_with_pictures_refs', 'add_code', 'add_document', 'add_form', 'add_formula', 'add_group', 'add_heading', 'add_inline_group', 'add_key_values', 'add_list_group', 'add_list_item', 'add_node_items', 'add_ordered_list', 'add_page', 'add_picture', 'add_table', 'add_table_cell', 'add_text', 'add_title', 'add_unordered_list', 'append_child_item', 'body', 'check_version_is_compatible', 'concatenate', 'construct', 'copy', 'delete_items', 'delete_items_range', 'dict', 'export_to_dict', 'export_to_doctags', 'export_to_document_tokens', 'export_to_element_tree', 'export_to_html', 'export_to_markdown', 'export_to_text', 'extract_items_range', 'filter', 'form_items', 'from_orm', 'furniture', 'get_visualization', 'groups', 'insert_code', 'insert_document', 'insert_form', 'insert_formula', 'insert_group', 'insert_heading', 'insert_inline_group', 'insert_item_after_sibling', 'insert_item_before_sibling', 'insert_key_values', 'insert_list_group', 'insert_list_item', 'insert_node_items', 'insert_picture', 'insert_table', 'insert_text', 'insert_title', 'iterate_items', 'json', 'key_value_items', 'load_from_doctags', 'load_from_json', 'load_from_yaml', 'model_computed_fields', 'model_config', 'model_construct', 'model_copy', 'model_dump', 'model_dump_json', 'model_extra', 'model_fields', 'model_fields_set', 'model_json_schema', 'model_parametrized_name', 'model_post_init', 'model_rebuild', 'model_validate', 'model_validate_json', 'model_validate_strings', 'name', 'num_pages', 'origin', 'pages', 'parse_file', 'parse_obj', 'parse_raw', 'pictures', 'print_element_tree', 'replace_item', 'save_as_doctags', 'save_as_document_tokens', 'save_as_html', 'save_as_json', 'save_as_markdown', 'save_as_yaml', 'schema', 'schema_json', 'schema_name', 'tables', 'texts', 'transform_to_content_layer', 'update_forward_refs', 'validate', 'validate_document', 'validate_misplaced_list_items', 'validate_tree', 'version']\n"
     ]
    }
   ],
   "source": [
    "# How to explore what your object has\n",
    "# You can quickly check what attributes are available:\n",
    "print(dir(source))"
   ]
  },
  {
   "cell_type": "code",
   "execution_count": 6,
   "metadata": {},
   "outputs": [
    {
     "name": "stderr",
     "output_type": "stream",
     "text": [
      "2025-09-23 12:21:27,888 - INFO - detected formats: [<InputFormat.HTML: 'html'>]\n",
      "2025-09-23 12:21:27,907 - INFO - Going to convert document batch...\n",
      "2025-09-23 12:21:27,908 - INFO - Initializing pipeline for SimplePipeline with options hash 995a146ad601044538e6a923bea22f4e\n",
      "2025-09-23 12:21:27,908 - INFO - Processing document docling\n",
      "2025-09-23 12:21:27,922 - INFO - Finished converting document docling in 0.40 sec.\n"
     ]
    }
   ],
   "source": [
    "# websiteparsing\n",
    "\n",
    "source2 = converter.convert('https://docling-project.github.io/docling/')\n",
    "web_source = source2.document"
   ]
  },
  {
   "cell_type": "code",
   "execution_count": 7,
   "metadata": {},
   "outputs": [],
   "source": [
    "with open(\"web_md.md\", \"w\", encoding=\"utf-8\") as f:\n",
    "    f.write(web_source.export_to_markdown())"
   ]
  },
  {
   "cell_type": "code",
   "execution_count": 8,
   "metadata": {},
   "outputs": [
    {
     "name": "stderr",
     "output_type": "stream",
     "text": [
      "2025-09-23 12:21:27,936 - INFO - detected formats: [<InputFormat.PPTX: 'pptx'>]\n",
      "2025-09-23 12:21:27,944 - INFO - Going to convert document batch...\n",
      "2025-09-23 12:21:27,945 - INFO - Processing document 2BAXW45Y275TQX4RSSQ7E2GPM6QNJQSL.pptx\n",
      "2025-09-23 12:21:28,865 - WARNING - Warning: image cannot be loaded by Pillow: cannot find loader for this WMF file\n",
      "2025-09-23 12:21:28,891 - INFO - Finished converting document 2BAXW45Y275TQX4RSSQ7E2GPM6QNJQSL.pptx in 0.96 sec.\n"
     ]
    }
   ],
   "source": [
    "# /Users/maryamsyeda/Downloads/2BAXW45Y275TQX4RSSQ7E2GPM6QNJQSL.pptx\n",
    "source3 = converter.convert('/Users/maryamsyeda/Downloads/2BAXW45Y275TQX4RSSQ7E2GPM6QNJQSL.pptx')\n",
    "powerpt = source3.document"
   ]
  },
  {
   "cell_type": "code",
   "execution_count": 9,
   "metadata": {},
   "outputs": [
    {
     "name": "stderr",
     "output_type": "stream",
     "text": [
      "2025-09-23 12:21:28,905 - WARNING - Parameter `strict_text` has been deprecated and will be ignored.\n"
     ]
    }
   ],
   "source": [
    "with open(\"perpt.md\", \"w\", encoding=\"utf-8\") as f:\n",
    "    f.write(powerpt.export_to_text())"
   ]
  }
 ],
 "metadata": {
  "kernelspec": {
   "display_name": "yt_myenv",
   "language": "python",
   "name": "python3"
  },
  "language_info": {
   "codemirror_mode": {
    "name": "ipython",
    "version": 3
   },
   "file_extension": ".py",
   "mimetype": "text/x-python",
   "name": "python",
   "nbconvert_exporter": "python",
   "pygments_lexer": "ipython3",
   "version": "3.10.18"
  }
 },
 "nbformat": 4,
 "nbformat_minor": 2
}
